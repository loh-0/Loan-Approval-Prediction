{
 "cells": [
  {
   "cell_type": "markdown",
   "id": "f0f9dc81-34e3-48a3-a729-d0f66b47ccb5",
   "metadata": {},
   "source": [
    "Import Libraries"
   ]
  },
  {
   "cell_type": "code",
   "execution_count": 79,
   "id": "f69f448c-b11a-4e08-ae91-7834610c39d8",
   "metadata": {},
   "outputs": [
    {
     "data": {
      "text/plain": [
       "loan_id                      False\n",
       " no_of_dependents            False\n",
       " education                   False\n",
       " self_employed               False\n",
       " income_annum                False\n",
       " loan_amount                 False\n",
       " loan_term                   False\n",
       " cibil_score                 False\n",
       " residential_assets_value    False\n",
       " commercial_assets_value     False\n",
       " luxury_assets_value         False\n",
       " bank_asset_value            False\n",
       " loan_status                 False\n",
       "dtype: bool"
      ]
     },
     "execution_count": 79,
     "metadata": {},
     "output_type": "execute_result"
    }
   ],
   "source": [
    "import pandas as pd\n",
    "import matplotlib as plt \n",
    "from sklearn.model_selection import train_test_split\n",
    "from sklearn.metrics import classification_report, confusion_matrix\n",
    "from sklearn.linear_model import LogisticRegression\n",
    "from sklearn.ensemble import RandomForestClassifier, GradientBoostingClassifier\n",
    "from sklearn.metrics import classification_report\n",
    "import shap \n",
    "\n",
    "\n",
    "loans = pd.read_csv('../data/loan_approval_dataset.csv')\n",
    "# First check to see if any NAs\n",
    "loans.isna().any()"
   ]
  },
  {
   "cell_type": "code",
   "execution_count": 80,
   "id": "c641bed8-bf02-42ed-941d-02c02095eb43",
   "metadata": {},
   "outputs": [
    {
     "data": {
      "text/html": [
       "<div>\n",
       "<style scoped>\n",
       "    .dataframe tbody tr th:only-of-type {\n",
       "        vertical-align: middle;\n",
       "    }\n",
       "\n",
       "    .dataframe tbody tr th {\n",
       "        vertical-align: top;\n",
       "    }\n",
       "\n",
       "    .dataframe thead th {\n",
       "        text-align: right;\n",
       "    }\n",
       "</style>\n",
       "<table border=\"1\" class=\"dataframe\">\n",
       "  <thead>\n",
       "    <tr style=\"text-align: right;\">\n",
       "      <th></th>\n",
       "      <th>loan_id</th>\n",
       "      <th>no_of_dependents</th>\n",
       "      <th>education</th>\n",
       "      <th>self_employed</th>\n",
       "      <th>income_annum</th>\n",
       "      <th>loan_amount</th>\n",
       "      <th>loan_term</th>\n",
       "      <th>cibil_score</th>\n",
       "      <th>residential_assets_value</th>\n",
       "      <th>commercial_assets_value</th>\n",
       "      <th>luxury_assets_value</th>\n",
       "      <th>bank_asset_value</th>\n",
       "      <th>loan_status</th>\n",
       "    </tr>\n",
       "  </thead>\n",
       "  <tbody>\n",
       "    <tr>\n",
       "      <th>0</th>\n",
       "      <td>1</td>\n",
       "      <td>2</td>\n",
       "      <td>Graduate</td>\n",
       "      <td>No</td>\n",
       "      <td>9600000</td>\n",
       "      <td>29900000</td>\n",
       "      <td>12</td>\n",
       "      <td>778</td>\n",
       "      <td>2400000</td>\n",
       "      <td>17600000</td>\n",
       "      <td>22700000</td>\n",
       "      <td>8000000</td>\n",
       "      <td>Approved</td>\n",
       "    </tr>\n",
       "    <tr>\n",
       "      <th>1</th>\n",
       "      <td>2</td>\n",
       "      <td>0</td>\n",
       "      <td>Not Graduate</td>\n",
       "      <td>Yes</td>\n",
       "      <td>4100000</td>\n",
       "      <td>12200000</td>\n",
       "      <td>8</td>\n",
       "      <td>417</td>\n",
       "      <td>2700000</td>\n",
       "      <td>2200000</td>\n",
       "      <td>8800000</td>\n",
       "      <td>3300000</td>\n",
       "      <td>Rejected</td>\n",
       "    </tr>\n",
       "    <tr>\n",
       "      <th>2</th>\n",
       "      <td>3</td>\n",
       "      <td>3</td>\n",
       "      <td>Graduate</td>\n",
       "      <td>No</td>\n",
       "      <td>9100000</td>\n",
       "      <td>29700000</td>\n",
       "      <td>20</td>\n",
       "      <td>506</td>\n",
       "      <td>7100000</td>\n",
       "      <td>4500000</td>\n",
       "      <td>33300000</td>\n",
       "      <td>12800000</td>\n",
       "      <td>Rejected</td>\n",
       "    </tr>\n",
       "    <tr>\n",
       "      <th>3</th>\n",
       "      <td>4</td>\n",
       "      <td>3</td>\n",
       "      <td>Graduate</td>\n",
       "      <td>No</td>\n",
       "      <td>8200000</td>\n",
       "      <td>30700000</td>\n",
       "      <td>8</td>\n",
       "      <td>467</td>\n",
       "      <td>18200000</td>\n",
       "      <td>3300000</td>\n",
       "      <td>23300000</td>\n",
       "      <td>7900000</td>\n",
       "      <td>Rejected</td>\n",
       "    </tr>\n",
       "    <tr>\n",
       "      <th>4</th>\n",
       "      <td>5</td>\n",
       "      <td>5</td>\n",
       "      <td>Not Graduate</td>\n",
       "      <td>Yes</td>\n",
       "      <td>9800000</td>\n",
       "      <td>24200000</td>\n",
       "      <td>20</td>\n",
       "      <td>382</td>\n",
       "      <td>12400000</td>\n",
       "      <td>8200000</td>\n",
       "      <td>29400000</td>\n",
       "      <td>5000000</td>\n",
       "      <td>Rejected</td>\n",
       "    </tr>\n",
       "  </tbody>\n",
       "</table>\n",
       "</div>"
      ],
      "text/plain": [
       "   loan_id   no_of_dependents      education  self_employed   income_annum  \\\n",
       "0        1                  2       Graduate             No        9600000   \n",
       "1        2                  0   Not Graduate            Yes        4100000   \n",
       "2        3                  3       Graduate             No        9100000   \n",
       "3        4                  3       Graduate             No        8200000   \n",
       "4        5                  5   Not Graduate            Yes        9800000   \n",
       "\n",
       "    loan_amount   loan_term   cibil_score   residential_assets_value  \\\n",
       "0      29900000          12           778                    2400000   \n",
       "1      12200000           8           417                    2700000   \n",
       "2      29700000          20           506                    7100000   \n",
       "3      30700000           8           467                   18200000   \n",
       "4      24200000          20           382                   12400000   \n",
       "\n",
       "    commercial_assets_value   luxury_assets_value   bank_asset_value  \\\n",
       "0                  17600000              22700000            8000000   \n",
       "1                   2200000               8800000            3300000   \n",
       "2                   4500000              33300000           12800000   \n",
       "3                   3300000              23300000            7900000   \n",
       "4                   8200000              29400000            5000000   \n",
       "\n",
       "   loan_status  \n",
       "0     Approved  \n",
       "1     Rejected  \n",
       "2     Rejected  \n",
       "3     Rejected  \n",
       "4     Rejected  "
      ]
     },
     "execution_count": 80,
     "metadata": {},
     "output_type": "execute_result"
    }
   ],
   "source": [
    "loans.head()"
   ]
  },
  {
   "cell_type": "code",
   "execution_count": 81,
   "id": "25f70f83-e8fc-4390-ad96-de7b2b307e16",
   "metadata": {},
   "outputs": [
    {
     "data": {
      "text/plain": [
       "Index(['loan_id', ' no_of_dependents', ' education', ' self_employed',\n",
       "       ' income_annum', ' loan_amount', ' loan_term', ' cibil_score',\n",
       "       ' residential_assets_value', ' commercial_assets_value',\n",
       "       ' luxury_assets_value', ' bank_asset_value', ' loan_status'],\n",
       "      dtype='object')"
      ]
     },
     "execution_count": 81,
     "metadata": {},
     "output_type": "execute_result"
    }
   ],
   "source": [
    "# Convert the Loan Status into 0s and 1s\n",
    "loans.columns "
   ]
  },
  {
   "cell_type": "code",
   "execution_count": 82,
   "id": "b0aaea45-e8d0-47fd-abf5-9705b32d4dfe",
   "metadata": {},
   "outputs": [],
   "source": [
    "loans.columns = loans.columns.str.strip()"
   ]
  },
  {
   "cell_type": "code",
   "execution_count": 83,
   "id": "80c5c896-4942-426f-98c5-e9c18b1d5c04",
   "metadata": {},
   "outputs": [
    {
     "data": {
      "text/plain": [
       "loan_status\n",
       "Approved    2656\n",
       "Rejected    1613\n",
       "Name: count, dtype: int64"
      ]
     },
     "execution_count": 83,
     "metadata": {},
     "output_type": "execute_result"
    }
   ],
   "source": [
    "loans['loan_status'].value_counts()"
   ]
  },
  {
   "cell_type": "code",
   "execution_count": 84,
   "id": "11fb6d21-5327-4ccf-a5ef-51c7c0f7a118",
   "metadata": {},
   "outputs": [
    {
     "data": {
      "text/plain": [
       "array([' Approved', ' Rejected'], dtype=object)"
      ]
     },
     "execution_count": 84,
     "metadata": {},
     "output_type": "execute_result"
    }
   ],
   "source": [
    "loans['loan_status'].unique()"
   ]
  },
  {
   "cell_type": "code",
   "execution_count": 85,
   "id": "c0ef64d2-ce71-4b9f-a8b6-048dab98d1a2",
   "metadata": {},
   "outputs": [],
   "source": [
    "loans['loan_status'] = loans['loan_status'].str.strip()"
   ]
  },
  {
   "cell_type": "code",
   "execution_count": 86,
   "id": "7c8c1a84-be0f-43c3-9898-1a12b6d5f1c5",
   "metadata": {},
   "outputs": [
    {
     "data": {
      "text/plain": [
       "array(['Approved', 'Rejected'], dtype=object)"
      ]
     },
     "execution_count": 86,
     "metadata": {},
     "output_type": "execute_result"
    }
   ],
   "source": [
    "loans['loan_status'].unique()"
   ]
  },
  {
   "cell_type": "code",
   "execution_count": 87,
   "id": "54ff84fc-37b2-48e2-bbcd-2913be00d2eb",
   "metadata": {},
   "outputs": [],
   "source": [
    "loans['loan_status'] = loans['loan_status'].map({'Approved':1,'Rejected':0})"
   ]
  },
  {
   "cell_type": "code",
   "execution_count": 88,
   "id": "62ddf45e-1a42-4033-8db8-40ec14f1d206",
   "metadata": {},
   "outputs": [
    {
     "data": {
      "text/plain": [
       "loan_status\n",
       "1    2656\n",
       "0    1613\n",
       "Name: count, dtype: int64"
      ]
     },
     "execution_count": 88,
     "metadata": {},
     "output_type": "execute_result"
    }
   ],
   "source": [
    "loans['loan_status'].value_counts()"
   ]
  },
  {
   "cell_type": "code",
   "execution_count": 89,
   "id": "226352fb-e847-4330-b798-a40d364b5145",
   "metadata": {},
   "outputs": [
    {
     "name": "stdout",
     "output_type": "stream",
     "text": [
      "<class 'pandas.core.frame.DataFrame'>\n",
      "RangeIndex: 4269 entries, 0 to 4268\n",
      "Data columns (total 13 columns):\n",
      " #   Column                    Non-Null Count  Dtype \n",
      "---  ------                    --------------  ----- \n",
      " 0   loan_id                   4269 non-null   int64 \n",
      " 1   no_of_dependents          4269 non-null   int64 \n",
      " 2   education                 4269 non-null   object\n",
      " 3   self_employed             4269 non-null   object\n",
      " 4   income_annum              4269 non-null   int64 \n",
      " 5   loan_amount               4269 non-null   int64 \n",
      " 6   loan_term                 4269 non-null   int64 \n",
      " 7   cibil_score               4269 non-null   int64 \n",
      " 8   residential_assets_value  4269 non-null   int64 \n",
      " 9   commercial_assets_value   4269 non-null   int64 \n",
      " 10  luxury_assets_value       4269 non-null   int64 \n",
      " 11  bank_asset_value          4269 non-null   int64 \n",
      " 12  loan_status               4269 non-null   int64 \n",
      "dtypes: int64(11), object(2)\n",
      "memory usage: 433.7+ KB\n"
     ]
    }
   ],
   "source": [
    "loans.info()"
   ]
  },
  {
   "cell_type": "markdown",
   "id": "9bf5b3d9-0d80-4e75-8c90-96ffe3e79faa",
   "metadata": {},
   "source": [
    "LabelEncoding now"
   ]
  },
  {
   "cell_type": "code",
   "execution_count": 91,
   "id": "0b9abc0c-8268-4b62-b0a6-641d8e5b3061",
   "metadata": {},
   "outputs": [],
   "source": [
    "from sklearn.preprocessing import LabelEncoder\n",
    "label_cols = ['self_employed','education'] \n",
    "\n",
    "encoders = {}\n",
    "\n",
    "for col in label_cols:\n",
    "    encoder = LabelEncoder()\n",
    "    loans[col] = loans[col].astype(str).str.strip()\n",
    "    loans[col] = encoder.fit_transform(loans[col])\n",
    "    encoders[col] = encoder\n",
    "\n"
   ]
  },
  {
   "cell_type": "code",
   "execution_count": 92,
   "id": "8f1a77d8-24ed-45e3-b66b-4fa6d91ff5e7",
   "metadata": {},
   "outputs": [
    {
     "data": {
      "text/html": [
       "<div>\n",
       "<style scoped>\n",
       "    .dataframe tbody tr th:only-of-type {\n",
       "        vertical-align: middle;\n",
       "    }\n",
       "\n",
       "    .dataframe tbody tr th {\n",
       "        vertical-align: top;\n",
       "    }\n",
       "\n",
       "    .dataframe thead th {\n",
       "        text-align: right;\n",
       "    }\n",
       "</style>\n",
       "<table border=\"1\" class=\"dataframe\">\n",
       "  <thead>\n",
       "    <tr style=\"text-align: right;\">\n",
       "      <th></th>\n",
       "      <th>loan_id</th>\n",
       "      <th>no_of_dependents</th>\n",
       "      <th>education</th>\n",
       "      <th>self_employed</th>\n",
       "      <th>income_annum</th>\n",
       "      <th>loan_amount</th>\n",
       "      <th>loan_term</th>\n",
       "      <th>cibil_score</th>\n",
       "      <th>residential_assets_value</th>\n",
       "      <th>commercial_assets_value</th>\n",
       "      <th>luxury_assets_value</th>\n",
       "      <th>bank_asset_value</th>\n",
       "      <th>loan_status</th>\n",
       "    </tr>\n",
       "  </thead>\n",
       "  <tbody>\n",
       "    <tr>\n",
       "      <th>0</th>\n",
       "      <td>1</td>\n",
       "      <td>2</td>\n",
       "      <td>0</td>\n",
       "      <td>0</td>\n",
       "      <td>9600000</td>\n",
       "      <td>29900000</td>\n",
       "      <td>12</td>\n",
       "      <td>778</td>\n",
       "      <td>2400000</td>\n",
       "      <td>17600000</td>\n",
       "      <td>22700000</td>\n",
       "      <td>8000000</td>\n",
       "      <td>1</td>\n",
       "    </tr>\n",
       "    <tr>\n",
       "      <th>1</th>\n",
       "      <td>2</td>\n",
       "      <td>0</td>\n",
       "      <td>1</td>\n",
       "      <td>1</td>\n",
       "      <td>4100000</td>\n",
       "      <td>12200000</td>\n",
       "      <td>8</td>\n",
       "      <td>417</td>\n",
       "      <td>2700000</td>\n",
       "      <td>2200000</td>\n",
       "      <td>8800000</td>\n",
       "      <td>3300000</td>\n",
       "      <td>0</td>\n",
       "    </tr>\n",
       "    <tr>\n",
       "      <th>2</th>\n",
       "      <td>3</td>\n",
       "      <td>3</td>\n",
       "      <td>0</td>\n",
       "      <td>0</td>\n",
       "      <td>9100000</td>\n",
       "      <td>29700000</td>\n",
       "      <td>20</td>\n",
       "      <td>506</td>\n",
       "      <td>7100000</td>\n",
       "      <td>4500000</td>\n",
       "      <td>33300000</td>\n",
       "      <td>12800000</td>\n",
       "      <td>0</td>\n",
       "    </tr>\n",
       "    <tr>\n",
       "      <th>3</th>\n",
       "      <td>4</td>\n",
       "      <td>3</td>\n",
       "      <td>0</td>\n",
       "      <td>0</td>\n",
       "      <td>8200000</td>\n",
       "      <td>30700000</td>\n",
       "      <td>8</td>\n",
       "      <td>467</td>\n",
       "      <td>18200000</td>\n",
       "      <td>3300000</td>\n",
       "      <td>23300000</td>\n",
       "      <td>7900000</td>\n",
       "      <td>0</td>\n",
       "    </tr>\n",
       "    <tr>\n",
       "      <th>4</th>\n",
       "      <td>5</td>\n",
       "      <td>5</td>\n",
       "      <td>1</td>\n",
       "      <td>1</td>\n",
       "      <td>9800000</td>\n",
       "      <td>24200000</td>\n",
       "      <td>20</td>\n",
       "      <td>382</td>\n",
       "      <td>12400000</td>\n",
       "      <td>8200000</td>\n",
       "      <td>29400000</td>\n",
       "      <td>5000000</td>\n",
       "      <td>0</td>\n",
       "    </tr>\n",
       "  </tbody>\n",
       "</table>\n",
       "</div>"
      ],
      "text/plain": [
       "   loan_id  no_of_dependents  education  self_employed  income_annum  \\\n",
       "0        1                 2          0              0       9600000   \n",
       "1        2                 0          1              1       4100000   \n",
       "2        3                 3          0              0       9100000   \n",
       "3        4                 3          0              0       8200000   \n",
       "4        5                 5          1              1       9800000   \n",
       "\n",
       "   loan_amount  loan_term  cibil_score  residential_assets_value  \\\n",
       "0     29900000         12          778                   2400000   \n",
       "1     12200000          8          417                   2700000   \n",
       "2     29700000         20          506                   7100000   \n",
       "3     30700000          8          467                  18200000   \n",
       "4     24200000         20          382                  12400000   \n",
       "\n",
       "   commercial_assets_value  luxury_assets_value  bank_asset_value  loan_status  \n",
       "0                 17600000             22700000           8000000            1  \n",
       "1                  2200000              8800000           3300000            0  \n",
       "2                  4500000             33300000          12800000            0  \n",
       "3                  3300000             23300000           7900000            0  \n",
       "4                  8200000             29400000           5000000            0  "
      ]
     },
     "execution_count": 92,
     "metadata": {},
     "output_type": "execute_result"
    }
   ],
   "source": [
    "loans.head()"
   ]
  },
  {
   "cell_type": "code",
   "execution_count": 93,
   "id": "a7f90cbb-0814-4c91-9c2d-af0d00b74f59",
   "metadata": {},
   "outputs": [],
   "source": [
    "X = loans.drop(['loan_id','loan_status'],axis=1)\n",
    "y = loans['loan_status']"
   ]
  },
  {
   "cell_type": "code",
   "execution_count": 94,
   "id": "f0802624-3969-4582-8525-4c133a1f3a33",
   "metadata": {},
   "outputs": [],
   "source": [
    "X_train, X_test, y_train, y_test = train_test_split(X,y)"
   ]
  },
  {
   "cell_type": "code",
   "execution_count": 95,
   "id": "47678492-ef85-441c-804d-4a5ea30a1758",
   "metadata": {},
   "outputs": [
    {
     "name": "stdout",
     "output_type": "stream",
     "text": [
      "--- Logistic Regression ---\n",
      "              precision    recall  f1-score   support\n",
      "\n",
      "           0       0.84      0.62      0.71       432\n",
      "           1       0.78      0.92      0.84       636\n",
      "\n",
      "    accuracy                           0.80      1068\n",
      "   macro avg       0.81      0.77      0.78      1068\n",
      "weighted avg       0.80      0.80      0.79      1068\n",
      "\n",
      "--- Random Forest ---\n",
      "              precision    recall  f1-score   support\n",
      "\n",
      "           0       0.99      0.97      0.98       432\n",
      "           1       0.98      0.99      0.99       636\n",
      "\n",
      "    accuracy                           0.98      1068\n",
      "   macro avg       0.98      0.98      0.98      1068\n",
      "weighted avg       0.98      0.98      0.98      1068\n",
      "\n"
     ]
    }
   ],
   "source": [
    "\n",
    "models = {\n",
    "    \"Logistic Regression\": LogisticRegression(max_iter=1000),\n",
    "    \"Random Forest\": RandomForestClassifier(),\n",
    "}\n",
    "\n",
    "for name, model in models.items():\n",
    "    model.fit(X_train, y_train)\n",
    "    preds = model.predict(X_test)\n",
    "    print(f\"--- {name} ---\")\n",
    "    print(classification_report(y_test, preds))\n"
   ]
  },
  {
   "cell_type": "code",
   "execution_count": 96,
   "id": "8bd00e07-4b7d-4a75-bdf3-bc3fd1250492",
   "metadata": {},
   "outputs": [],
   "source": [
    "rf = RandomForestClassifier()\n",
    "rf.fit(X_train, y_train)\n",
    "preds = rf.predict(X_test)"
   ]
  },
  {
   "cell_type": "code",
   "execution_count": 97,
   "id": "2a74014f-4724-4ac9-8c31-f5e54d5836b8",
   "metadata": {},
   "outputs": [],
   "source": [
    "import shap \n",
    "\n",
    "explainer = shap.TreeExplainer(rf)\n",
    "\n",
    "shap_values = explainer.shap_values(X_test)\n",
    "\n",
    "X_test.columns\n",
    "\n",
    "shap_values_class_1 = shap_values[:, :, 1] \n",
    "\n",
    "\n"
   ]
  },
  {
   "cell_type": "code",
   "execution_count": 98,
   "id": "e7443c31-b4ab-4164-ab34-ff20dbbbb299",
   "metadata": {},
   "outputs": [
    {
     "data": {
      "image/png": "[encoded data removed]",
      "text/plain": [
       "<Figure size 750x500 with 2 Axes>"
      ]
     },
     "metadata": {},
     "output_type": "display_data"
    }
   ],
   "source": [
    "# dependency plot\n",
    "shap.dependence_plot(\"loan_term\",shap_values_class_1,X_test)"
   ]
  },
  {
   "cell_type": "code",
   "execution_count": 99,
   "id": "056712fe-c73d-423b-b44e-ec981281f5b6",
   "metadata": {},
   "outputs": [
    {
     "data": {
      "image/png": "[encoded data removed]",
      "text/plain": [
       "<Figure size 750x500 with 2 Axes>"
      ]
     },
     "metadata": {},
     "output_type": "display_data"
    }
   ],
   "source": [
    "shap.dependence_plot(\"income_annum\", shap_values_class_1, X_test)"
   ]
  },
  {
   "cell_type": "code",
   "execution_count": 100,
   "id": "9814954b-e39c-4c5f-bed9-a583eacfcfc1",
   "metadata": {},
   "outputs": [
    {
     "data": {
      "text/html": [
       "\n",
       "<div id='iESNBKEGDQ080FU9KYXY2'>\n",
       "<div style='color: #900; text-align: center;'>\n",
       "  <b>Visualization omitted, Javascript library not loaded!</b><br>\n",
       "  Have you run `initjs()` in this notebook? If this notebook was from another\n",
       "  user you must also trust this notebook (File -> Trust notebook). If you are viewing\n",
       "  this notebook on github the Javascript has been stripped for security. If you are using\n",
       "  JupyterLab this error is because a JupyterLab extension has not yet been written.\n",
       "</div></div>\n",
       " <script>\n",
       "   if (window.SHAP) SHAP.ReactDom.render(\n",
       "    SHAP.React.createElement(SHAP.AdditiveForceVisualizer, {\"outNames\": [\"f(x)\"], \"baseValue\": 0.6313339581380817, \"outValue\": 0.9799999999999998, \"link\": \"identity\", \"featureNames\": [\"no_of_dependents\", \"education\", \"self_employed\", \"income_annum\", \"loan_amount\", \"loan_term\", \"cibil_score\", \"residential_assets_value\", \"commercial_assets_value\", \"luxury_assets_value\", \"bank_asset_value\"], \"features\": {\"0\": {\"effect\": -0.0037534676308847393, \"value\": 5.0}, \"1\": {\"effect\": -0.000537635160764606, \"value\": 0.0}, \"2\": {\"effect\": -0.0012387312684332208, \"value\": 0.0}, \"3\": {\"effect\": -0.0021204392955177565, \"value\": 8000000.0}, \"4\": {\"effect\": 0.017801493365001947, \"value\": 27000000.0}, \"5\": {\"effect\": -0.025595375377388686, \"value\": 20.0}, \"6\": {\"effect\": 0.3547566918554413, \"value\": 595.0}, \"7\": {\"effect\": 0.005397866442259866, \"value\": 4500000.0}, \"8\": {\"effect\": -0.0015449025129768985, \"value\": 5200000.0}, \"9\": {\"effect\": 0.004135283899254895, \"value\": 24800000.0}, \"10\": {\"effect\": 0.001365257545925938, \"value\": 10400000.0}}, \"plot_cmap\": \"RdBu\", \"labelMargin\": 20}),\n",
       "    document.getElementById('iESNBKEGDQ080FU9KYXY2')\n",
       "  );\n",
       "</script>"
      ],
      "text/plain": [
       "<shap.plots._force.AdditiveForceVisualizer at 0x13ca6f79a60>"
      ]
     },
     "execution_count": 100,
     "metadata": {},
     "output_type": "execute_result"
    }
   ],
   "source": [
    "# Using SHAP to explain an individual prediction\n",
    "shap_row = shap_values_class_1[5]         \n",
    "features_row = X_test.iloc[5]              \n",
    "base_value = explainer.expected_value[1]          \n",
    "\n",
    "# SHAP Explanation object\n",
    "explanation = shap.Explanation(\n",
    "    values=shap_row,\n",
    "    base_values=base_value,\n",
    "    data=features_row.values,\n",
    "    feature_names=features_row.index.tolist()\n",
    ")\n",
    "\n",
    "# Plot the SHAP force explanation\n",
    "shap.plots.force(explanation)"
   ]
  },
  {
   "cell_type": "code",
   "execution_count": 101,
   "id": "3eea0e7c-3e28-4a59-ae6a-5454db0cfb34",
   "metadata": {},
   "outputs": [
    {
     "data": {
      "text/plain": [
       "['rf_model.pkl']"
      ]
     },
     "execution_count": 101,
     "metadata": {},
     "output_type": "execute_result"
    }
   ],
   "source": [
    "import joblib\n",
    "\n",
    "joblib.dump(rf, \"rf_model.pkl\")"
   ]
  },
  {
   "cell_type": "code",
   "execution_count": 124,
   "id": "c59c10ae-a963-4a50-8e6e-c430bfae4849",
   "metadata": {},
   "outputs": [
    {
     "data": {
      "text/plain": [
       "1"
      ]
     },
     "execution_count": 124,
     "metadata": {},
     "output_type": "execute_result"
    }
   ],
   "source": [
    "X_test.iloc[5]\n",
    "y_test.iloc[5]"
   ]
  },
  {
   "cell_type": "code",
   "execution_count": 126,
   "id": "dded432c-1e06-46c6-a0eb-1272f0cae3fe",
   "metadata": {},
   "outputs": [
    {
     "data": {
      "text/plain": [
       "no_of_dependents                   5\n",
       "education                          0\n",
       "self_employed                      0\n",
       "income_annum                 8000000\n",
       "loan_amount                 27000000\n",
       "loan_term                         20\n",
       "cibil_score                      595\n",
       "residential_assets_value     4500000\n",
       "commercial_assets_value      5200000\n",
       "luxury_assets_value         24800000\n",
       "bank_asset_value            10400000\n",
       "Name: 2782, dtype: int64"
      ]
     },
     "execution_count": 126,
     "metadata": {},
     "output_type": "execute_result"
    }
   ],
   "source": [
    "X_test.iloc[5]"
   ]
  },
  {
   "cell_type": "code",
   "execution_count": 136,
   "id": "08b9b516-cd40-4775-9f9a-ea240b6615fa",
   "metadata": {},
   "outputs": [
    {
     "data": {
      "text/plain": [
       "0"
      ]
     },
     "execution_count": 136,
     "metadata": {},
     "output_type": "execute_result"
    }
   ],
   "source": [
    "y_test.iloc[10]"
   ]
  },
  {
   "cell_type": "code",
   "execution_count": 138,
   "id": "74fef97e-6ac4-4594-95f0-33e7b5e9d59f",
   "metadata": {},
   "outputs": [
    {
     "data": {
      "text/plain": [
       "no_of_dependents                   2\n",
       "education                          0\n",
       "self_employed                      1\n",
       "income_annum                 9400000\n",
       "loan_amount                 37300000\n",
       "loan_term                         14\n",
       "cibil_score                      383\n",
       "residential_assets_value     7800000\n",
       "commercial_assets_value     15900000\n",
       "luxury_assets_value         27100000\n",
       "bank_asset_value             7700000\n",
       "Name: 2740, dtype: int64"
      ]
     },
     "execution_count": 138,
     "metadata": {},
     "output_type": "execute_result"
    }
   ],
   "source": [
    "X_test.iloc[10]"
   ]
  }
 ],
 "metadata": {
  "kernelspec": {
   "display_name": "Python 3 (ipykernel)",
   "language": "python",
   "name": "python3"
  },
  "language_info": {
   "codemirror_mode": {
    "name": "ipython",
    "version": 3
   },
   "file_extension": ".py",
   "mimetype": "text/x-python",
   "name": "python",
   "nbconvert_exporter": "python",
   "pygments_lexer": "ipython3",
   "version": "3.12.4"
  }
 },
 "nbformat": 4,
 "nbformat_minor": 5
}
